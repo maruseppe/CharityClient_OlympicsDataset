{
 "cells": [
  {
   "cell_type": "markdown",
   "metadata": {},
   "source": [
    "#  US percentage of women at OGs\n",
    "\n",
    "A real-world regression dataset. "
   ]
  },
  {
   "cell_type": "code",
   "execution_count": 1,
   "metadata": {},
   "outputs": [
    {
     "name": "stdout",
     "output_type": "stream",
     "text": [
      "Data :  [array([1904, 1920, 1924, 1928, 1932, 1936, 1948, 1952, 1956, 1960, 1964,\n",
      "       1968, 1972, 1976, 1980, 1984, 1988, 1992, 1994, 1996, 1998, 2000,\n",
      "       2002, 2004, 2006, 2008, 2010, 2012, 2014, 2016], dtype=int64), array([ 1.05263158,  3.17902956,  5.3271028 ,  6.75105485, 14.11178749,\n",
      "        7.00669758, 12.10585586, 24.71288813, 29.67741935, 31.09957527,\n",
      "       33.16742081, 33.13483624, 33.46303502, 32.5106383 , 32.2147651 ,\n",
      "       33.93829401, 39.01425178, 41.4189358 , 41.52542373, 42.3572136 ,\n",
      "       42.92965917, 43.14461119, 40.90634441, 40.48796571, 37.42296919,\n",
      "       43.93320965, 37.74617068, 44.28404214, 36.89942345, 45.64606742])]\n"
     ]
    }
   ],
   "source": [
    "import numpy as np\n",
    "import matplotlib.pyplot as plt\n",
    "import pandas as pd\n",
    "\n",
    "import pandas as pd\n",
    "\n",
    "#import data set\n",
    "\n",
    "dataset = pd.read_csv('USWomenPerc.csv') # this will automatically name your columns if your csv has headers\n",
    "\n",
    "#if your csv does not have headers:\n",
    "#df.columns = ['Bad Indicator', 'ColumnName1', 'ColumnName2',..]\n",
    "\n",
    "x = dataset[\"YEAR\"].values\n",
    "y = dataset[\"US_FEM_PERC\"] .values\n",
    "\n",
    "#X = df[\"YEAR\"]   #Feature Matrix\n",
    "#Y = df[\"WORLD_FEM_PERC\"]          #Target Variable\n",
    "\n",
    "#df.head()\n",
    "\n",
    "sport= [x,y]\n",
    "print(\"Data : \" ,sport)"
   ]
  },
  {
   "cell_type": "markdown",
   "metadata": {},
   "source": [
    "# Split in training and test set"
   ]
  },
  {
   "cell_type": "code",
   "execution_count": 2,
   "metadata": {},
   "outputs": [
    {
     "name": "stdout",
     "output_type": "stream",
     "text": [
      "[1992 2002 1936 1988 1956 1980 2004 1998 1920 2016 1948 1932 1994 1996\n",
      " 1960 1952 2008 1928 1904 2000 1984 1972]\n",
      "[41.4189358  40.90634441  7.00669758 39.01425178 29.67741935 32.2147651\n",
      " 40.48796571 42.92965917  3.17902956 45.64606742 12.10585586 14.11178749\n",
      " 41.52542373 42.3572136  31.09957527 24.71288813 43.93320965  6.75105485\n",
      "  1.05263158 43.14461119 33.93829401 33.46303502]\n"
     ]
    }
   ],
   "source": [
    "from sklearn.model_selection import train_test_split\n",
    "\n",
    "X_train_nointerac, X_test_nointerac, y_train, y_test = train_test_split(x, y, random_state=0)\n",
    "print (X_train_nointerac)\n",
    "print( y_train)"
   ]
  },
  {
   "cell_type": "markdown",
   "metadata": {},
   "source": [
    "# Features Engineering \n",
    "\n",
    "## Polynomials\n",
    "\n",
    "To enrich a feature representation, particularly for linear models, we can add interaction features and polynomial features of the original data.\n",
    "\n",
    "In the following code we extract polynomial features and interactions up to a degree of 2, which means\n",
    "that we look at all features that are the product of up to two original features.The exact correspondence between input and output features can be found using the\n",
    "get_feature_names method\n",
    "\n",
    "You can see that the first column of X_poly corresponds exactly to X, while the other\n",
    "columns are the powers of the first entry. It’s interesting to see how large some of the\n",
    "values can get. The second column has entries above 20,000, orders of magnitude different\n",
    "from the rest."
   ]
  },
  {
   "cell_type": "code",
   "execution_count": 3,
   "metadata": {},
   "outputs": [
    {
     "name": "stdout",
     "output_type": "stream",
     "text": [
      "X_train.shape: (22, 1)\n",
      "X_train_poly.shape: (22, 3)\n",
      "Polynomial feature names:\n",
      "['x0', 'x0^2', 'x0^3']\n"
     ]
    }
   ],
   "source": [
    "from sklearn.preprocessing import PolynomialFeatures\n",
    "\n",
    "# Change shape as fit support only 2D arays for X\n",
    "X_train_nointerac=X_train_nointerac.reshape(-1,1)\n",
    "X_test_nointerac=X_test_nointerac.reshape(-1,1)\n",
    "\n",
    "# include polynomials up to x ** 10:\n",
    "# the default \"include_bias=True\" adds a feature that's constantly 1\n",
    "poly = PolynomialFeatures(degree=3, include_bias=False)\n",
    "poly.fit(X_train_nointerac)\n",
    "X_train_poly = poly.transform(X_train_nointerac)\n",
    "X_test_poly = poly.transform(X_test_nointerac)\n",
    "\n",
    "print(\"X_train.shape: {}\".format(X_train_nointerac.shape))\n",
    "print(\"X_train_poly.shape: {}\".format(X_train_poly.shape))\n",
    "\n",
    "print(\"Polynomial feature names:\\n{}\".format(poly.get_feature_names()))"
   ]
  },
  {
   "cell_type": "markdown",
   "metadata": {},
   "source": [
    "# Model\n",
    "\n",
    "## Linear regression \n",
    "\n",
    "Also called ordinary least squares (OLS), is the simplest and most classic linear method for regression. Linear regression finds the parameters w and b that minimize\n",
    "the mean squared error between predictions : \n",
    "\n",
    "ŷ = w[0] * x[0] + w[1] * x[1] + ... + w[p] * x[p] + b\n",
    "\n",
    "and the true regression targets, y,on the training set. The mean squared error is the sum of the squared differences\n",
    "between the predictions and the true values. Linear regression has no parameters,\n",
    "which is a benefit, but it also has no way to control model complexity.\n",
    "\n",
    "The “slope” parameters (w), also called weights or coefficients, are stored in the coef_\n",
    "attribute, while the offset or intercept (b) is stored in the intercept_ attribute\n",
    "\n",
    "Using polynomial features together with a linear regression model yields the classical\n",
    "model of polynomial regression"
   ]
  },
  {
   "cell_type": "code",
   "execution_count": 5,
   "metadata": {},
   "outputs": [],
   "source": [
    "from sklearn.linear_model import LinearRegression\n",
    "\n",
    "reg = LinearRegression().fit(X_train_poly, y_train)\n",
    "\n",
    "# Change shape as fit support only 2D arays for X\n",
    "X=x.reshape(-1,1)\n",
    "\n",
    "line_poly = poly.transform(X)\n",
    "\n",
    "\n",
    "## Change shape as fit support only 2D arays for X\n",
    "#X_train_nointerac=X_train_nointerac.reshape(-1,1)\n",
    "#X_test_nointerac=X_test_nointerac.reshape(-1,1)\n",
    "\n",
    "#lr = LinearRegression().fit(X_train_nointerac, y_train)"
   ]
  },
  {
   "cell_type": "code",
   "execution_count": 6,
   "metadata": {},
   "outputs": [
    {
     "name": "stdout",
     "output_type": "stream",
     "text": [
      "reg.coef_: [-5.79852071e+02  2.97490405e-01 -5.08257880e-05]\n",
      "reg.intercept_: 376391.3208042018\n"
     ]
    }
   ],
   "source": [
    "print(\"reg.coef_: {}\".format(reg.coef_))\n",
    "print(\"reg.intercept_: {}\".format(reg.intercept_))"
   ]
  },
  {
   "cell_type": "markdown",
   "metadata": {},
   "source": [
    "The following discrepancy between performance on the training set and the test set is a clear\n",
    "sign of overfitting, and therefore we should try to find a model that allows us to control\n",
    "complexity."
   ]
  },
  {
   "cell_type": "code",
   "execution_count": 7,
   "metadata": {
    "scrolled": true
   },
   "outputs": [
    {
     "data": {
      "text/plain": [
       "<matplotlib.legend.Legend at 0x1ee2a2f66a0>"
      ]
     },
     "execution_count": 7,
     "metadata": {},
     "output_type": "execute_result"
    },
    {
     "data": {
      "image/png": "[encoded data removed]",
      "text/plain": [
       "<Figure size 432x288 with 1 Axes>"
      ]
     },
     "metadata": {
      "needs_background": "light"
     },
     "output_type": "display_data"
    }
   ],
   "source": [
    "plt.plot(x, reg.predict(line_poly), label='polynomial linear regression')\n",
    "plt.plot(x, y, 'o', c='k')\n",
    "plt.ylabel(\"Regression output\")\n",
    "plt.xlabel(\"Input feature\")\n",
    "plt.legend(loc=\"best\")"
   ]
  },
  {
   "cell_type": "code",
   "execution_count": 8,
   "metadata": {},
   "outputs": [
    {
     "name": "stdout",
     "output_type": "stream",
     "text": [
      "Training set score: 0.95\n",
      "Test set score: 0.83\n"
     ]
    }
   ],
   "source": [
    "print(\"Training set score: {:.2f}\".format(reg.score(X_train_poly, y_train)))\n",
    "print(\"Test set score: {:.2f}\".format(reg.score(X_test_poly, y_test)))"
   ]
  },
  {
   "cell_type": "markdown",
   "metadata": {},
   "source": [
    "# Model\n",
    "\n",
    "## Kernel SVC\n",
    "\n",
    "In order to obtain nonlinear regression   models for datasets like wave dataset that present a nonlinear function between the data (x) and the target (y), one can use feature engineering. It consists in adding nonlinear features to the representation of our data,\n",
    "making linear models to fit nonlinear functions (as for instance it is possible to separate data using a plane in 3D features space instead of a line in 2D features space). \n",
    "\n",
    "However, often we don’t know which features\n",
    "to add, and adding many features (like all possible interactions in a 100-\n",
    "dimensional feature space) might make computation very expensive. Luckily, there is\n",
    "a clever mathematical trick that allows us to learn a nonlinear function in a higher-dimensional\n",
    "space without actually computing the new, possibly very large representation. This is\n",
    "known as the kernel trick, and it works by directly computing the distance (more precisely,\n",
    "the scalar products) of the data points for the expanded feature representation,\n",
    "without ever actually computing the expansion.\n",
    "\n",
    "During training, the algorithm learns the support vectors and their importance (stored in the dual_coef_ attribute of SVC). Thus, predictions for a new data points is made via measuring the distance from the support vectors. This distance can be defined via the Gaussian kernel:\n",
    "\n",
    "k_rbf(x1, x2) = exp (ɣ*ǁx1 - x2ǁ^2)\n",
    "\n",
    "Here, x1 and x2 are data points, ǁ x1 - x2 ǁ denotes Euclidean distance, and ɣ (gamma)\n",
    "is a parameter that controls the width of the Gaussian kernel. It determines the scale of what it\n",
    "means for points to be close together. \n",
    "\n",
    "The C parameter, instead, is a regularization parameter,\n",
    "similar to that used in the linear models. It limits the importance of each point (or\n",
    "more precisely, their dual_coef_)\n",
    "\n",
    "By default, C=1 and gamma=1/n_features\n",
    "\n",
    "#### Advantages of SVM\n",
    "Good for smaller cleaner datasets.\n",
    "Accurate results.\n",
    "Useful for both linearly separable data and non – linearly separable data.\n",
    "Effective in high dimensional spaces.\n",
    "#### Disadvantages of SVM\n",
    "Not suitable for large datasets, as the training time can be too much.\n",
    "Not so effective on a dataset with overlapping classes.\n",
    "Picking the right kernel can be computationally intensive.\n",
    "#### Applications of SVM\n",
    "Sentiment analysis.\n",
    "Spam Detection.\n",
    "Handwritten digit recognition.\n",
    "Image recognition challenges."
   ]
  },
  {
   "cell_type": "code",
   "execution_count": 19,
   "metadata": {},
   "outputs": [
    {
     "name": "stdout",
     "output_type": "stream",
     "text": [
      "Best cross-validation accuracy: -0.16\n",
      "Test set score: 0.03\n",
      "Best parameters: {'svm__C': 100, 'svm__gamma': 0.001}\n"
     ]
    }
   ],
   "source": [
    "from sklearn.model_selection import GridSearchCV\n",
    "from sklearn.pipeline import Pipeline\n",
    "from sklearn.svm import SVR\n",
    "from sklearn.preprocessing import MinMaxScaler\n",
    "\n",
    "svr = SVR()\n",
    "pipe = Pipeline([(\"scaler\", MinMaxScaler()), (\"svm\", SVR())])\n",
    "param_grid = {'svm__C': [ 100], 'svm__gamma': [0.001]}\n",
    "\n",
    "grid = GridSearchCV(pipe, param_grid=param_grid, cv=5)\n",
    "grid.fit(X_train_nointerac, y_train)\n",
    "print(\"Best cross-validation accuracy: {:.2f}\".format(grid.best_score_))\n",
    "print(\"Test set score: {:.2f}\".format(grid.score(X_test_nointerac, y_test)))\n",
    "print(\"Best parameters: {}\".format(grid.best_params_))\n",
    " \n",
    "    # Note that the for gamma=0.001 and C=100 the test set score is 0.03  ( 3% )"
   ]
  },
  {
   "cell_type": "code",
   "execution_count": 20,
   "metadata": {},
   "outputs": [
    {
     "data": {
      "text/plain": [
       "<matplotlib.legend.Legend at 0x1ee2a5a5580>"
      ]
     },
     "execution_count": 20,
     "metadata": {},
     "output_type": "execute_result"
    },
    {
     "data": {
      "image/png": "[encoded data removed]",
      "text/plain": [
       "<Figure size 432x288 with 1 Axes>"
      ]
     },
     "metadata": {
      "needs_background": "light"
     },
     "output_type": "display_data"
    }
   ],
   "source": [
    "from sklearn.svm import SVR\n",
    "for gamma in [0.001]:\n",
    "   svr = SVR(kernel='rbf', C=100,gamma=gamma).fit(X, y)\n",
    "   plt.plot(X, svr.predict(X), label='SVR gamma={}'.format(gamma))\n",
    "\n",
    "plt.plot(X, y, 'o', c='k')\n",
    "plt.xlabel(\"Year\")\n",
    "plt.ylabel(\"Percentage of US Women candidates\")\n",
    "plt.title(\"C=100\")\n",
    "plt.legend()"
   ]
  }
 ],
 "metadata": {
  "kernelspec": {
   "display_name": "Python 3",
   "language": "python",
   "name": "python3"
  },
  "language_info": {
   "codemirror_mode": {
    "name": "ipython",
    "version": 3
   },
   "file_extension": ".py",
   "mimetype": "text/x-python",
   "name": "python",
   "nbconvert_exporter": "python",
   "pygments_lexer": "ipython3",
   "version": "3.8.5"
  },
  "varInspector": {
   "cols": {
    "lenName": 16,
    "lenType": 16,
    "lenVar": 40
   },
   "kernels_config": {
    "python": {
     "delete_cmd_postfix": "",
     "delete_cmd_prefix": "del ",
     "library": "var_list.py",
     "varRefreshCmd": "print(var_dic_list())"
    },
    "r": {
     "delete_cmd_postfix": ") ",
     "delete_cmd_prefix": "rm(",
     "library": "var_list.r",
     "varRefreshCmd": "cat(var_dic_list()) "
    }
   },
   "types_to_exclude": [
    "module",
    "function",
    "builtin_function_or_method",
    "instance",
    "_Feature"
   ],
   "window_display": false
  }
 },
 "nbformat": 4,
 "nbformat_minor": 4
}
