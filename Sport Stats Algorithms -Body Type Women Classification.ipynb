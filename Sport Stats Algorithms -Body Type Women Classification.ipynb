{
 "cells": [
  {
   "cell_type": "markdown",
   "metadata": {},
   "source": [
    "# Body Type Women Classification"
   ]
  },
  {
   "cell_type": "code",
   "execution_count": 5,
   "metadata": {},
   "outputs": [
    {
     "name": "stdout",
     "output_type": "stream",
     "text": [
      "Data :  [array([[58.  ,  1.6 ],\n",
      "       [58.  ,  1.6 ],\n",
      "       [58.  ,  1.6 ],\n",
      "       [40.  ,  1.59],\n",
      "       [40.  ,  1.59],\n",
      "       [40.  ,  1.59],\n",
      "       [40.  ,  1.59],\n",
      "       [47.  ,  1.66],\n",
      "       [47.  ,  1.66],\n",
      "       [47.  ,  1.66],\n",
      "       [47.  ,  1.66],\n",
      "       [47.  ,  1.66],\n",
      "       [47.  ,  1.66],\n",
      "       [47.  ,  1.66],\n",
      "       [47.  ,  1.66],\n",
      "       [65.  ,  1.74],\n",
      "       [65.  ,  1.74],\n",
      "       [65.  ,  1.74],\n",
      "       [49.  ,  1.58],\n",
      "       [49.  ,  1.58],\n",
      "       [49.  ,  1.58],\n",
      "       [49.  ,  1.58],\n",
      "       [48.  ,  1.66],\n",
      "       [50.  ,  1.68],\n",
      "       [50.  ,  1.68],\n",
      "       [50.  ,  1.62],\n",
      "       [51.  ,  1.74],\n",
      "       [51.  ,  1.74],\n",
      "       [51.  ,  1.74],\n",
      "       [63.  ,  1.58],\n",
      "       [75.  ,  1.74],\n",
      "       [75.  ,  1.74],\n",
      "       [75.  ,  1.74],\n",
      "       [75.  ,  1.74],\n",
      "       [75.  ,  1.74],\n",
      "       [75.  ,  1.74],\n",
      "       [54.  ,  1.62],\n",
      "       [54.  ,  1.62],\n",
      "       [63.  ,  1.65],\n",
      "       [63.  ,  1.65],\n",
      "       [62.  ,  1.83],\n",
      "       [62.  ,  1.83],\n",
      "       [62.  ,  1.83],\n",
      "       [62.  ,  1.83],\n",
      "       [62.  ,  1.83],\n",
      "       [62.  ,  1.83],\n",
      "       [62.  ,  1.83],\n",
      "       [62.  ,  1.83],\n",
      "       [57.  ,  1.65],\n",
      "       [63.  ,  1.87],\n",
      "       [63.  ,  1.87],\n",
      "       [63.  ,  1.87],\n",
      "       [69.  ,  1.72]]), array([1, 1, 1, 0, 0, 0, 0, 0, 0, 0, 0, 0, 0, 0, 0, 0, 0, 0, 0, 0, 0, 0,\n",
      "       0, 0, 0, 0, 0, 0, 0, 1, 1, 1, 1, 1, 1, 1, 0, 0, 1, 1, 0, 0, 0, 0,\n",
      "       0, 0, 0, 0, 0, 0, 0, 0, 1], dtype=int64)]\n",
      "<class 'list'> 53\n"
     ]
    }
   ],
   "source": [
    "import numpy as np\n",
    "import matplotlib.pyplot as plt\n",
    "import pandas as pd\n",
    "\n",
    "import pandas as pd\n",
    "\n",
    "#import data set\n",
    "\n",
    "dataset = pd.read_csv('ArabWomenClass.csv') # this will automatically name your columns if your csv has headers\n",
    "\n",
    "#if your csv does not have headers:\n",
    "#df.columns = ['Bad Indicator', 'ColumnName1', 'ColumnName2',..]\n",
    "\n",
    "\n",
    "X = dataset[['Weight', 'Height']].to_numpy()\n",
    "y = dataset[\"Sport\"] .values\n",
    "\n",
    "#X = df[\"YEAR\"]   #Feature Matrix\n",
    "#Y = df[\"WORLD_FEM_PERC\"]          #Target Variable\n",
    "\n",
    "#df.head()\n",
    "\n",
    "sport= [X,y]\n",
    "print(\"Data : \" ,sport)\n",
    "#print(\"X.shape: {}\".format(sport.shape))\n",
    "print( type(sport), len(X))\n"
   ]
  },
  {
   "cell_type": "markdown",
   "metadata": {},
   "source": [
    "# Split in training and test set"
   ]
  },
  {
   "cell_type": "code",
   "execution_count": 6,
   "metadata": {},
   "outputs": [
    {
     "name": "stdout",
     "output_type": "stream",
     "text": [
      "[[75.    1.74]\n",
      " [54.    1.62]\n",
      " [48.    1.66]\n",
      " [47.    1.66]\n",
      " [47.    1.66]\n",
      " [75.    1.74]\n",
      " [57.    1.65]\n",
      " [49.    1.58]\n",
      " [63.    1.87]\n",
      " [75.    1.74]\n",
      " [65.    1.74]\n",
      " [40.    1.59]\n",
      " [51.    1.74]\n",
      " [65.    1.74]\n",
      " [62.    1.83]\n",
      " [49.    1.58]\n",
      " [62.    1.83]\n",
      " [47.    1.66]\n",
      " [47.    1.66]\n",
      " [50.    1.62]\n",
      " [65.    1.74]\n",
      " [63.    1.87]\n",
      " [62.    1.83]\n",
      " [58.    1.6 ]\n",
      " [47.    1.66]\n",
      " [62.    1.83]\n",
      " [50.    1.68]\n",
      " [40.    1.59]\n",
      " [50.    1.68]\n",
      " [54.    1.62]\n",
      " [49.    1.58]\n",
      " [49.    1.58]\n",
      " [47.    1.66]\n",
      " [63.    1.65]\n",
      " [63.    1.87]\n",
      " [40.    1.59]\n",
      " [58.    1.6 ]\n",
      " [62.    1.83]\n",
      " [62.    1.83]]\n",
      "[1 0 0 0 0 1 0 0 0 1 0 0 0 0 0 0 0 0 0 0 0 0 0 1 0 0 0 0 0 0 0 0 0 1 0 0 1\n",
      " 0 0]\n"
     ]
    }
   ],
   "source": [
    "from sklearn.model_selection import train_test_split\n",
    "\n",
    "X_train_nointerac, X_test_nointerac, y_train, y_test = train_test_split(X, y, random_state=0)\n",
    "print (X_train_nointerac)\n",
    "print( y_train)"
   ]
  },
  {
   "cell_type": "markdown",
   "metadata": {},
   "source": [
    "# Features Engineering \n",
    "\n",
    "\n",
    "## Scaling \n",
    "\n",
    "A common practice is to adjust\n",
    "the features so that the data representation is more suitable for a given algorithm.\n",
    "Even though preprocessing and\n",
    "scaling are often used in tandem with supervised learning algorithms, scaling methods\n",
    "don’t make use of the supervised information, making them unsupervised.\n",
    "\n",
    "The MinMaxScaler shifts the data such that all features are exactly between 0 and 1. \n",
    "\n",
    "To compute the minimum and maximum value of each feature, we fit the scaler using the fit method, applied to the training data.\n",
    "\n",
    "Then, to actually scale the training\n",
    "data, we use the transform method of the scaler. The transform method is used in\n",
    "scikit-learn whenever a model returns a new representation of the data.\n",
    "\n",
    "Instead of simply calling fit and then transform, we can merge the two by calling fit_transform method.\n"
   ]
  },
  {
   "cell_type": "markdown",
   "metadata": {},
   "source": [
    "# Model\n",
    "\n",
    "## Kernel SVC\n",
    "\n",
    "In order to obtain nonlinear regression   models for datasets like wave dataset that present a nonlinear function between the data (x) and the target (y), one can use feature engineering. It consists in adding nonlinear features to the representation of our data,\n",
    "making linear models to fit nonlinear functions (as for instance it is possible to separate data using a plane in 3D features space instead of a line in 2D features space). \n",
    "\n",
    "However, often we don’t know which features\n",
    "to add, and adding many features (like all possible interactions in a 100-\n",
    "dimensional feature space) might make computation very expensive. Luckily, there is\n",
    "a clever mathematical trick that allows us to learn a nonlinear function in a higher-dimensional\n",
    "space without actually computing the new, possibly very large representation. This is\n",
    "known as the kernel trick, and it works by directly computing the distance (more precisely,\n",
    "the scalar products) of the data points for the expanded feature representation,\n",
    "without ever actually computing the expansion.\n",
    "\n",
    "During training, the algorithm learns the support vectors and their importance (stored in the dual_coef_ attribute of SVC). Thus, predictions for a new data points is made via measuring the distance from the support vectors. This distance can be defined via the Gaussian kernel:\n",
    "\n",
    "k_rbf(x1, x2) = exp (ɣ*ǁx1 - x2ǁ^2)\n",
    "\n",
    "Here, x1 and x2 are data points, ǁ x1 - x2 ǁ denotes Euclidean distance, and ɣ (gamma)\n",
    "is a parameter that controls the width of the Gaussian kernel. It determines the scale of what it\n",
    "means for points to be close together. \n",
    "\n",
    "The C parameter, instead, is a regularization parameter,\n",
    "similar to that used in the linear models. It limits the importance of each point (or\n",
    "more precisely, their dual_coef_)\n",
    "\n",
    "By default, C=1 and gamma=1/n_features\n",
    "\n",
    "#### Advantages of SVM\n",
    "Good for smaller cleaner datasets.\n",
    "Accurate results.\n",
    "Useful for both linearly separable data and non – linearly separable data.\n",
    "Effective in high dimensional spaces.\n",
    "#### Disadvantages of SVM\n",
    "Not suitable for large datasets, as the training time can be too much.\n",
    "Not so effective on a dataset with overlapping classes.\n",
    "Picking the right kernel can be computationally intensive.\n",
    "#### Applications of SVM\n",
    "Sentiment analysis.\n",
    "Spam Detection.\n",
    "Handwritten digit recognition.\n",
    "Image recognition challenges."
   ]
  },
  {
   "cell_type": "code",
   "execution_count": 7,
   "metadata": {},
   "outputs": [
    {
     "name": "stdout",
     "output_type": "stream",
     "text": [
      "Best cross-validation accuracy: 1.00\n",
      "Test set score: 1.00\n",
      "Best parameters: {'svm__C': 100000, 'svm__gamma': 0.001}\n"
     ]
    }
   ],
   "source": [
    "from sklearn.model_selection import GridSearchCV\n",
    "from sklearn.pipeline import Pipeline\n",
    "from sklearn.svm import SVC\n",
    "from sklearn.preprocessing import MinMaxScaler\n",
    "\n",
    "svc = SVC()\n",
    "pipe = Pipeline([(\"scaler\", MinMaxScaler()), (\"svm\", SVC())])\n",
    "param_grid = {'svm__C': [100000], 'svm__gamma': [0.001]}\n",
    "\n",
    "grid = GridSearchCV(pipe, param_grid=param_grid, cv=5)\n",
    "grid.fit(X_train_nointerac, y_train)\n",
    "print(\"Best cross-validation accuracy: {:.2f}\".format(grid.best_score_))\n",
    "print(\"Test set score: {:.2f}\".format(grid.score(X_test_nointerac, y_test)))\n",
    "print(\"Best parameters: {}\".format(grid.best_params_))\n",
    " \n",
    "    # Note that the for gamma=0.001 and C=100 the test set score is 0.03  ( 3% )"
   ]
  },
  {
   "cell_type": "code",
   "execution_count": 11,
   "metadata": {},
   "outputs": [
    {
     "name": "stderr",
     "output_type": "stream",
     "text": [
      "C:\\Users\\Giuseppe Marino\\anaconda3\\lib\\site-packages\\seaborn\\_decorators.py:36: FutureWarning: Pass the following variables as keyword args: x, y. From version 0.12, the only valid positional argument will be `data`, and passing other arguments without an explicit keyword will result in an error or misinterpretation.\n",
      "  warnings.warn(\n"
     ]
    },
    {
     "data": {
      "text/plain": [
       "<matplotlib.legend.Legend at 0x254136decd0>"
      ]
     },
     "execution_count": 11,
     "metadata": {},
     "output_type": "execute_result"
    },
    {
     "data": {
      "image/png": "[encoded data removed]",
      "text/plain": [
       "<Figure size 432x288 with 1 Axes>"
      ]
     },
     "metadata": {},
     "output_type": "display_data"
    }
   ],
   "source": [
    "import seaborn as sns\n",
    "from mlxtend.plotting import plot_decision_regions\n",
    "sns.set_theme(style=\"ticks\", color_codes=True)\n",
    "\n",
    "sns.scatterplot('Weight', 'Height', data=dataset, hue='Sport')\n",
    "svc = SVC(kernel='rbf', C=100000,gamma=0.001)\n",
    "svc.fit(X, y)\n",
    "\n",
    "# X - some data in 2dimensional np.array\n",
    "h = .02  # step size in the mesh\n",
    "x_min, x_max = X[:, 0].min() - 1, X[:, 0].max() + 1\n",
    "y_min, y_max = X[:, 1].min() - 0.1, X[:, 1].max() + 0.1\n",
    "xx, yy = np.meshgrid(np.arange(x_min, x_max, h),\n",
    "                     np.arange(y_min, y_max, h))\n",
    "\n",
    "# here \"model\" is your model's prediction (classification) function\n",
    "Z = svc.predict(np.c_[xx.ravel(), yy.ravel()]) \n",
    "\n",
    "# Put the result into a color plot\n",
    "Z = Z.reshape(xx.shape)\n",
    "plt.contourf(xx, yy, Z, cmap=plt.cm.Paired, alpha=0.8)\n",
    "plt.legend([\"Wrestling\", \"Athletics\"])"
   ]
  }
 ],
 "metadata": {
  "kernelspec": {
   "display_name": "Python 3",
   "language": "python",
   "name": "python3"
  },
  "language_info": {
   "codemirror_mode": {
    "name": "ipython",
    "version": 3
   },
   "file_extension": ".py",
   "mimetype": "text/x-python",
   "name": "python",
   "nbconvert_exporter": "python",
   "pygments_lexer": "ipython3",
   "version": "3.8.5"
  },
  "varInspector": {
   "cols": {
    "lenName": 16,
    "lenType": 16,
    "lenVar": 40
   },
   "kernels_config": {
    "python": {
     "delete_cmd_postfix": "",
     "delete_cmd_prefix": "del ",
     "library": "var_list.py",
     "varRefreshCmd": "print(var_dic_list())"
    },
    "r": {
     "delete_cmd_postfix": ") ",
     "delete_cmd_prefix": "rm(",
     "library": "var_list.r",
     "varRefreshCmd": "cat(var_dic_list()) "
    }
   },
   "types_to_exclude": [
    "module",
    "function",
    "builtin_function_or_method",
    "instance",
    "_Feature"
   ],
   "window_display": false
  }
 },
 "nbformat": 4,
 "nbformat_minor": 4
}
