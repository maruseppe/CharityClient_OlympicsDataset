{
 "cells": [
  {
   "cell_type": "markdown",
   "metadata": {},
   "source": [
    "#  World percentage of women at OGs\n",
    "\n",
    "A real-world regression dataset. "
   ]
  },
  {
   "cell_type": "code",
   "execution_count": 3,
   "metadata": {},
   "outputs": [
    {
     "name": "stdout",
     "output_type": "stream",
     "text": [
      "Data :  [array([1936, 1948, 1960, 1964, 1972, 1976, 1980, 1984, 1988, 1992, 1994,\n",
      "       1996, 1998, 2000, 2002, 2004, 2006, 2008, 2010, 2012, 2014, 2016],\n",
      "      dtype=int64), array([ 0.68965517,  0.07147963,  0.48192771,  3.49794239,  1.03092784,\n",
      "        4.11449016,  4.        ,  5.36082474,  7.05521472, 19.86035687,\n",
      "       39.60880196, 23.85261797, 48.0994152 , 30.58618688, 53.35051546,\n",
      "       26.87609075, 51.52722444, 34.12969283, 55.4517134 , 36.03603604,\n",
      "       44.26934097, 36.29392971])]\n"
     ]
    }
   ],
   "source": [
    "import numpy as np\n",
    "import matplotlib.pyplot as plt\n",
    "import pandas as pd\n",
    "\n",
    "import pandas as pd\n",
    "\n",
    "#import data set\n",
    "\n",
    "dataset = pd.read_csv('ArabWomenCandidatesPerYear.csv') # this will automatically name your columns if your csv has headers\n",
    "\n",
    "#if your csv does not have headers:\n",
    "#df.columns = ['Bad Indicator', 'ColumnName1', 'ColumnName2',..]\n",
    "\n",
    "x = dataset[\"YEAR\"].values\n",
    "y = dataset[\"ARAB_FEM_PERC\"] .values\n",
    "\n",
    "#X = df[\"YEAR\"]   #Feature Matrix\n",
    "#Y = df[\"WORLD_FEM_PERC\"]          #Target Variable\n",
    "\n",
    "#df.head()\n",
    "\n",
    "sport= [x,y]\n",
    "print(\"Data : \" ,sport)"
   ]
  },
  {
   "cell_type": "markdown",
   "metadata": {},
   "source": [
    "# Split in training and test set"
   ]
  },
  {
   "cell_type": "code",
   "execution_count": 4,
   "metadata": {},
   "outputs": [
    {
     "name": "stdout",
     "output_type": "stream",
     "text": [
      "[1996 2012 1988 1980 2006 1972 1960 1976 2008 1992 1984 2010 1964 1936\n",
      " 2004 1998]\n",
      "[23.85261797 36.03603604  7.05521472  4.         51.52722444  1.03092784\n",
      "  0.48192771  4.11449016 34.12969283 19.86035687  5.36082474 55.4517134\n",
      "  3.49794239  0.68965517 26.87609075 48.0994152 ]\n"
     ]
    }
   ],
   "source": [
    "from sklearn.model_selection import train_test_split\n",
    "\n",
    "X_train_nointerac, X_test_nointerac, y_train, y_test = train_test_split(x, y, random_state=0)\n",
    "print (X_train_nointerac)\n",
    "print( y_train)"
   ]
  },
  {
   "cell_type": "markdown",
   "metadata": {},
   "source": [
    "# Features Engineering \n",
    "\n",
    "## Polynomials\n",
    "\n",
    "To enrich a feature representation, particularly for linear models, we can add interaction features and polynomial features of the original data.\n",
    "\n",
    "In the following code we extract polynomial features and interactions up to a degree of 2, which means\n",
    "that we look at all features that are the product of up to two original features.The exact correspondence between input and output features can be found using the\n",
    "get_feature_names method\n",
    "\n",
    "You can see that the first column of X_poly corresponds exactly to X, while the other\n",
    "columns are the powers of the first entry. It’s interesting to see how large some of the\n",
    "values can get. The second column has entries above 20,000, orders of magnitude different\n",
    "from the rest."
   ]
  },
  {
   "cell_type": "code",
   "execution_count": 5,
   "metadata": {},
   "outputs": [
    {
     "ename": "NameError",
     "evalue": "name 'X_train' is not defined",
     "output_type": "error",
     "traceback": [
      "\u001b[1;31m---------------------------------------------------------------------------\u001b[0m",
      "\u001b[1;31mNameError\u001b[0m                                 Traceback (most recent call last)",
      "\u001b[1;32m<ipython-input-5-52004ff51ebb>\u001b[0m in \u001b[0;36m<module>\u001b[1;34m\u001b[0m\n\u001b[0;32m     12\u001b[0m \u001b[0mX_test_poly\u001b[0m \u001b[1;33m=\u001b[0m \u001b[0mpoly\u001b[0m\u001b[1;33m.\u001b[0m\u001b[0mtransform\u001b[0m\u001b[1;33m(\u001b[0m\u001b[0mX_test_nointerac\u001b[0m\u001b[1;33m)\u001b[0m\u001b[1;33m\u001b[0m\u001b[1;33m\u001b[0m\u001b[0m\n\u001b[0;32m     13\u001b[0m \u001b[1;33m\u001b[0m\u001b[0m\n\u001b[1;32m---> 14\u001b[1;33m \u001b[0mprint\u001b[0m\u001b[1;33m(\u001b[0m\u001b[1;34m\"X_train.shape: {}\"\u001b[0m\u001b[1;33m.\u001b[0m\u001b[0mformat\u001b[0m\u001b[1;33m(\u001b[0m\u001b[0mX_train\u001b[0m\u001b[1;33m.\u001b[0m\u001b[0mshape\u001b[0m\u001b[1;33m)\u001b[0m\u001b[1;33m)\u001b[0m\u001b[1;33m\u001b[0m\u001b[1;33m\u001b[0m\u001b[0m\n\u001b[0m\u001b[0;32m     15\u001b[0m \u001b[0mprint\u001b[0m\u001b[1;33m(\u001b[0m\u001b[1;34m\"X_train_poly.shape: {}\"\u001b[0m\u001b[1;33m.\u001b[0m\u001b[0mformat\u001b[0m\u001b[1;33m(\u001b[0m\u001b[0mX_train_poly\u001b[0m\u001b[1;33m.\u001b[0m\u001b[0mshape\u001b[0m\u001b[1;33m)\u001b[0m\u001b[1;33m)\u001b[0m\u001b[1;33m\u001b[0m\u001b[1;33m\u001b[0m\u001b[0m\n\u001b[0;32m     16\u001b[0m \u001b[1;33m\u001b[0m\u001b[0m\n",
      "\u001b[1;31mNameError\u001b[0m: name 'X_train' is not defined"
     ]
    }
   ],
   "source": [
    "from sklearn.preprocessing import PolynomialFeatures\n",
    "\n",
    "# Change shape as fit support only 2D arays for X\n",
    "X_train_nointerac=X_train_nointerac.reshape(-1,1)\n",
    "X_test_nointerac=X_test_nointerac.reshape(-1,1)\n",
    "\n",
    "# include polynomials up to x ** 10:\n",
    "# the default \"include_bias=True\" adds a feature that's constantly 1\n",
    "poly = PolynomialFeatures(degree=3, include_bias=False)\n",
    "poly.fit(X_train_nointerac)\n",
    "X_train_poly = poly.transform(X_train_nointerac)\n",
    "X_test_poly = poly.transform(X_test_nointerac)\n",
    "\n",
    "print(\"X_train.shape: {}\".format(X_train_nointerac.shape))\n",
    "print(\"X_train_poly.shape: {}\".format(X_train_poly.shape))\n",
    "\n",
    "print(\"Polynomial feature names:\\n{}\".format(poly.get_feature_names()))"
   ]
  },
  {
   "cell_type": "markdown",
   "metadata": {},
   "source": [
    "# Model\n",
    "\n",
    "## Linear regression \n",
    "\n",
    "Also called ordinary least squares (OLS), is the simplest and most classic linear method for regression. Linear regression finds the parameters w and b that minimize\n",
    "the mean squared error between predictions : \n",
    "\n",
    "ŷ = w[0] * x[0] + w[1] * x[1] + ... + w[p] * x[p] + b\n",
    "\n",
    "and the true regression targets, y,on the training set. The mean squared error is the sum of the squared differences\n",
    "between the predictions and the true values. Linear regression has no parameters,\n",
    "which is a benefit, but it also has no way to control model complexity.\n",
    "\n",
    "The “slope” parameters (w), also called weights or coefficients, are stored in the coef_\n",
    "attribute, while the offset or intercept (b) is stored in the intercept_ attribute\n",
    "\n",
    "Using polynomial features together with a linear regression model yields the classical\n",
    "model of polynomial regression"
   ]
  },
  {
   "cell_type": "code",
   "execution_count": 6,
   "metadata": {},
   "outputs": [],
   "source": [
    "from sklearn.linear_model import LinearRegression\n",
    "\n",
    "reg = LinearRegression().fit(X_train_poly, y_train)\n",
    "\n",
    "# Change shape as fit support only 2D arays for X\n",
    "X=x.reshape(-1,1)\n",
    "\n",
    "line_poly = poly.transform(X)\n",
    "\n",
    "\n",
    "## Change shape as fit support only 2D arays for X\n",
    "#X_train_nointerac=X_train_nointerac.reshape(-1,1)\n",
    "#X_test_nointerac=X_test_nointerac.reshape(-1,1)\n",
    "\n",
    "#lr = LinearRegression().fit(X_train_nointerac, y_train)"
   ]
  },
  {
   "cell_type": "code",
   "execution_count": 7,
   "metadata": {},
   "outputs": [
    {
     "name": "stdout",
     "output_type": "stream",
     "text": [
      "reg.coef_: [-6.34768523e+02  3.06889088e-01 -4.92858815e-05]\n",
      "reg.intercept_: 436298.0350516132\n"
     ]
    }
   ],
   "source": [
    "print(\"reg.coef_: {}\".format(reg.coef_))\n",
    "print(\"reg.intercept_: {}\".format(reg.intercept_))"
   ]
  },
  {
   "cell_type": "markdown",
   "metadata": {},
   "source": [
    "The following discrepancy between performance on the training set and the test set is a clear\n",
    "sign of overfitting, and therefore we should try to find a model that allows us to control\n",
    "complexity."
   ]
  },
  {
   "cell_type": "code",
   "execution_count": 8,
   "metadata": {
    "scrolled": true
   },
   "outputs": [
    {
     "data": {
      "text/plain": [
       "<matplotlib.legend.Legend at 0x1fa8eca7fa0>"
      ]
     },
     "execution_count": 8,
     "metadata": {},
     "output_type": "execute_result"
    },
    {
     "data": {
      "image/png": "[encoded data removed]",
      "text/plain": [
       "<Figure size 432x288 with 1 Axes>"
      ]
     },
     "metadata": {
      "needs_background": "light"
     },
     "output_type": "display_data"
    }
   ],
   "source": [
    "plt.plot(x, reg.predict(line_poly), label='polynomial linear regression')\n",
    "plt.plot(x, y, 'o', c='k')\n",
    "plt.ylabel(\"Regression output\")\n",
    "plt.xlabel(\"Input feature\")\n",
    "plt.legend(loc=\"best\")"
   ]
  },
  {
   "cell_type": "code",
   "execution_count": 86,
   "metadata": {},
   "outputs": [
    {
     "name": "stdout",
     "output_type": "stream",
     "text": [
      "Training set score: 0.98\n",
      "Test set score: 0.85\n"
     ]
    }
   ],
   "source": [
    "print(\"Training set score: {:.2f}\".format(reg.score(X_train_poly, y_train)))\n",
    "print(\"Test set score: {:.2f}\".format(reg.score(X_test_poly, y_test)))"
   ]
  },
  {
   "cell_type": "markdown",
   "metadata": {},
   "source": [
    "# Model\n",
    "\n",
    "## Kernel SVC\n",
    "\n",
    "In order to obtain nonlinear regression   models for datasets like wave dataset that present a nonlinear function between the data (x) and the target (y), one can use feature engineering. It consists in adding nonlinear features to the representation of our data,\n",
    "making linear models to fit nonlinear functions (as for instance it is possible to separate data using a plane in 3D features space instead of a line in 2D features space). \n",
    "\n",
    "However, often we don’t know which features\n",
    "to add, and adding many features (like all possible interactions in a 100-\n",
    "dimensional feature space) might make computation very expensive. Luckily, there is\n",
    "a clever mathematical trick that allows us to learn a nonlinear function in a higher-dimensional\n",
    "space without actually computing the new, possibly very large representation. This is\n",
    "known as the kernel trick, and it works by directly computing the distance (more precisely,\n",
    "the scalar products) of the data points for the expanded feature representation,\n",
    "without ever actually computing the expansion.\n",
    "\n",
    "During training, the algorithm learns the support vectors and their importance (stored in the dual_coef_ attribute of SVC). Thus, predictions for a new data points is made via measuring the distance from the support vectors. This distance can be defined via the Gaussian kernel:\n",
    "\n",
    "k_rbf(x1, x2) = exp (ɣ*ǁx1 - x2ǁ^2)\n",
    "\n",
    "Here, x1 and x2 are data points, ǁ x1 - x2 ǁ denotes Euclidean distance, and ɣ (gamma)\n",
    "is a parameter that controls the width of the Gaussian kernel. It determines the scale of what it\n",
    "means for points to be close together. \n",
    "\n",
    "The C parameter, instead, is a regularization parameter,\n",
    "similar to that used in the linear models. It limits the importance of each point (or\n",
    "more precisely, their dual_coef_)\n",
    "\n",
    "By default, C=1 and gamma=1/n_features\n",
    "\n",
    "#### Advantages of SVM\n",
    "Good for smaller cleaner datasets.\n",
    "Accurate results.\n",
    "Useful for both linearly separable data and non – linearly separable data.\n",
    "Effective in high dimensional spaces.\n",
    "#### Disadvantages of SVM\n",
    "Not suitable for large datasets, as the training time can be too much.\n",
    "Not so effective on a dataset with overlapping classes.\n",
    "Picking the right kernel can be computationally intensive.\n",
    "#### Applications of SVM\n",
    "Sentiment analysis.\n",
    "Spam Detection.\n",
    "Handwritten digit recognition.\n",
    "Image recognition challenges."
   ]
  },
  {
   "cell_type": "code",
   "execution_count": 15,
   "metadata": {},
   "outputs": [
    {
     "name": "stdout",
     "output_type": "stream",
     "text": [
      "Best cross-validation accuracy: -0.39\n",
      "Test set score: -1.48\n",
      "Best parameters: {'svm__C': 100, 'svm__gamma': 0.001}\n"
     ]
    }
   ],
   "source": [
    "from sklearn.model_selection import GridSearchCV\n",
    "from sklearn.pipeline import Pipeline\n",
    "from sklearn.svm import SVR\n",
    "from sklearn.preprocessing import MinMaxScaler\n",
    "\n",
    "svr = SVR()\n",
    "pipe = Pipeline([(\"scaler\", MinMaxScaler()), (\"svm\", SVR())])\n",
    "param_grid = {'svm__C': [100], 'svm__gamma': [0.001]}\n",
    "\n",
    "grid = GridSearchCV(pipe, param_grid=param_grid, cv=5)\n",
    "grid.fit(X_train_nointerac, y_train)\n",
    "print(\"Best cross-validation accuracy: {:.2f}\".format(grid.best_score_))\n",
    "print(\"Test set score: {:.2f}\".format(grid.score(X_test_nointerac, y_test)))\n",
    "print(\"Best parameters: {}\".format(grid.best_params_))\n",
    " \n",
    "    # Note that the for gamma=0.001 and C=100 the test set score is 0.03  ( 3% )"
   ]
  },
  {
   "cell_type": "code",
   "execution_count": 16,
   "metadata": {},
   "outputs": [
    {
     "data": {
      "text/plain": [
       "<matplotlib.legend.Legend at 0x1fa8ef45970>"
      ]
     },
     "execution_count": 16,
     "metadata": {},
     "output_type": "execute_result"
    },
    {
     "data": {
      "image/png": "[encoded data removed]",
      "text/plain": [
       "<Figure size 432x288 with 1 Axes>"
      ]
     },
     "metadata": {
      "needs_background": "light"
     },
     "output_type": "display_data"
    }
   ],
   "source": [
    "from sklearn.svm import SVR\n",
    "for gamma in [0.001]:\n",
    "   svr = SVR(kernel='rbf', C=100,gamma=gamma).fit(X, y)\n",
    "   plt.plot(X, svr.predict(X), label='SVR gamma={}'.format(gamma))\n",
    "\n",
    "plt.plot(X, y, 'o', c='k')\n",
    "plt.xlabel(\"Year\")\n",
    "plt.ylabel(\"Percentage of Arab Women candidates\")\n",
    "plt.title(\"C=100\")\n",
    "plt.legend()"
   ]
  }
 ],
 "metadata": {
  "kernelspec": {
   "display_name": "Python 3",
   "language": "python",
   "name": "python3"
  },
  "language_info": {
   "codemirror_mode": {
    "name": "ipython",
    "version": 3
   },
   "file_extension": ".py",
   "mimetype": "text/x-python",
   "name": "python",
   "nbconvert_exporter": "python",
   "pygments_lexer": "ipython3",
   "version": "3.8.5"
  },
  "varInspector": {
   "cols": {
    "lenName": 16,
    "lenType": 16,
    "lenVar": 40
   },
   "kernels_config": {
    "python": {
     "delete_cmd_postfix": "",
     "delete_cmd_prefix": "del ",
     "library": "var_list.py",
     "varRefreshCmd": "print(var_dic_list())"
    },
    "r": {
     "delete_cmd_postfix": ") ",
     "delete_cmd_prefix": "rm(",
     "library": "var_list.r",
     "varRefreshCmd": "cat(var_dic_list()) "
    }
   },
   "types_to_exclude": [
    "module",
    "function",
    "builtin_function_or_method",
    "instance",
    "_Feature"
   ],
   "window_display": false
  }
 },
 "nbformat": 4,
 "nbformat_minor": 4
}
